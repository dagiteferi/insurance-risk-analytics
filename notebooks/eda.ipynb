{
 "cells": [
  {
   "cell_type": "code",
   "execution_count": null,
   "metadata": {},
   "outputs": [],
   "source": [
    "import sys\n",
    "import os\n",
    "\n",
    "# Add the root directory to sys.path\n",
    "sys.path.append(os.path.abspath('..')) \n",
    "    \n",
    "\n",
    "\n",
    "from scripts.mainEda import exploratory_data_analysis\n",
    "file_path = '../data/MachineLearningRating_v3.txt'\n",
    "eda = exploratory_data_analysis(file_path)\n",
    "eda.handle_missing_values()\n",
    "print(eda.data)\n"
   ]
  },
  {
   "cell_type": "code",
   "execution_count": 5,
   "metadata": {},
   "outputs": [
    {
     "name": "stdout",
     "output_type": "stream",
     "text": [
      "<class 'pandas.core.frame.DataFrame'>\n",
      "RangeIndex: 1000098 entries, 0 to 1000097\n",
      "Data columns (total 52 columns):\n",
      " #   Column                    Non-Null Count    Dtype  \n",
      "---  ------                    --------------    -----  \n",
      " 0   UnderwrittenCoverID       1000098 non-null  int64  \n",
      " 1   PolicyID                  1000098 non-null  int64  \n",
      " 2   TransactionMonth          1000098 non-null  object \n",
      " 3   IsVATRegistered           1000098 non-null  bool   \n",
      " 4   Citizenship               1000098 non-null  object \n",
      " 5   LegalType                 1000098 non-null  object \n",
      " 6   Title                     1000098 non-null  object \n",
      " 7   Language                  1000098 non-null  object \n",
      " 8   Bank                      854137 non-null   object \n",
      " 9   AccountType               959866 non-null   object \n",
      " 10  MaritalStatus             991839 non-null   object \n",
      " 11  Gender                    990562 non-null   object \n",
      " 12  Country                   1000098 non-null  object \n",
      " 13  Province                  1000098 non-null  object \n",
      " 14  PostalCode                1000098 non-null  int64  \n",
      " 15  MainCrestaZone            1000098 non-null  object \n",
      " 16  SubCrestaZone             1000098 non-null  object \n",
      " 17  ItemType                  1000098 non-null  object \n",
      " 18  mmcode                    999546 non-null   float64\n",
      " 19  VehicleType               999546 non-null   object \n",
      " 20  RegistrationYear          1000098 non-null  int64  \n",
      " 21  make                      999546 non-null   object \n",
      " 22  Model                     999546 non-null   object \n",
      " 23  Cylinders                 999546 non-null   float64\n",
      " 24  cubiccapacity             999546 non-null   float64\n",
      " 25  kilowatts                 999546 non-null   float64\n",
      " 26  bodytype                  999546 non-null   object \n",
      " 27  NumberOfDoors             999546 non-null   float64\n",
      " 28  VehicleIntroDate          999546 non-null   object \n",
      " 29  CustomValueEstimate       220456 non-null   float64\n",
      " 30  AlarmImmobiliser          1000098 non-null  object \n",
      " 31  TrackingDevice            1000098 non-null  object \n",
      " 32  CapitalOutstanding        1000096 non-null  object \n",
      " 33  NewVehicle                846803 non-null   object \n",
      " 34  WrittenOff                358197 non-null   object \n",
      " 35  Rebuilt                   358197 non-null   object \n",
      " 36  Converted                 358197 non-null   object \n",
      " 37  CrossBorder               698 non-null      object \n",
      " 38  NumberOfVehiclesInFleet   0 non-null        float64\n",
      " 39  SumInsured                1000098 non-null  float64\n",
      " 40  TermFrequency             1000098 non-null  object \n",
      " 41  CalculatedPremiumPerTerm  1000098 non-null  float64\n",
      " 42  ExcessSelected            1000098 non-null  object \n",
      " 43  CoverCategory             1000098 non-null  object \n",
      " 44  CoverType                 1000098 non-null  object \n",
      " 45  CoverGroup                1000098 non-null  object \n",
      " 46  Section                   1000098 non-null  object \n",
      " 47  Product                   1000098 non-null  object \n",
      " 48  StatutoryClass            1000098 non-null  object \n",
      " 49  StatutoryRiskType         1000098 non-null  object \n",
      " 50  TotalPremium              1000098 non-null  float64\n",
      " 51  TotalClaims               1000098 non-null  float64\n",
      "dtypes: bool(1), float64(11), int64(4), object(36)\n",
      "memory usage: 390.1+ MB\n",
      "info of the datasetNone\n",
      "the data has 52 X 1000098 \n",
      "discriptions of the data set         UnderwrittenCoverID      PolicyID    PostalCode        mmcode  \\\n",
      "count         1.000098e+06  1.000098e+06  1.000098e+06  9.995460e+05   \n",
      "mean          1.048175e+05  7.956682e+03  3.020601e+03  5.487770e+07   \n",
      "std           6.329371e+04  5.290039e+03  2.649854e+03  1.360381e+07   \n",
      "min           1.000000e+00  1.400000e+01  1.000000e+00  4.041200e+06   \n",
      "25%           5.514300e+04  4.500000e+03  8.270000e+02  6.005692e+07   \n",
      "50%           9.408300e+04  7.071000e+03  2.000000e+03  6.005842e+07   \n",
      "75%           1.391900e+05  1.107700e+04  4.180000e+03  6.005842e+07   \n",
      "max           3.011750e+05  2.324600e+04  9.870000e+03  6.506535e+07   \n",
      "\n",
      "       RegistrationYear      Cylinders  cubiccapacity      kilowatts  \\\n",
      "count      1.000098e+06  999546.000000  999546.000000  999546.000000   \n",
      "mean       2.010225e+03       4.046642    2466.743258      97.207919   \n",
      "std        3.261391e+00       0.294020     442.800640      19.393256   \n",
      "min        1.987000e+03       0.000000       0.000000       0.000000   \n",
      "25%        2.008000e+03       4.000000    2237.000000      75.000000   \n",
      "50%        2.011000e+03       4.000000    2694.000000     111.000000   \n",
      "75%        2.013000e+03       4.000000    2694.000000     111.000000   \n",
      "max        2.015000e+03      10.000000   12880.000000     309.000000   \n",
      "\n",
      "       NumberOfDoors  CustomValueEstimate  NumberOfVehiclesInFleet  \\\n",
      "count  999546.000000         2.204560e+05                      0.0   \n",
      "mean        4.019250         2.255311e+05                      NaN   \n",
      "std         0.468314         5.645157e+05                      NaN   \n",
      "min         0.000000         2.000000e+04                      NaN   \n",
      "25%         4.000000         1.350000e+05                      NaN   \n",
      "50%         4.000000         2.200000e+05                      NaN   \n",
      "75%         4.000000         2.800000e+05                      NaN   \n",
      "max         6.000000         2.655000e+07                      NaN   \n",
      "\n",
      "         SumInsured  CalculatedPremiumPerTerm  TotalPremium   TotalClaims  \n",
      "count  1.000098e+06              1.000098e+06  1.000098e+06  1.000098e+06  \n",
      "mean   6.041727e+05              1.178757e+02  6.190550e+01  6.486119e+01  \n",
      "std    1.508332e+06              3.997017e+02  2.302845e+02  2.384075e+03  \n",
      "min    1.000000e-02              0.000000e+00 -7.825768e+02 -1.200241e+04  \n",
      "25%    5.000000e+03              3.224800e+00  0.000000e+00  0.000000e+00  \n",
      "50%    7.500000e+03              8.436900e+00  2.178333e+00  0.000000e+00  \n",
      "75%    2.500000e+05              9.000000e+01  2.192982e+01  0.000000e+00  \n",
      "max    1.263620e+07              7.442217e+04  6.528260e+04  3.930921e+05  \n"
     ]
    }
   ],
   "source": [
    "eda._info()"
   ]
  },
  {
   "cell_type": "code",
   "execution_count": 6,
   "metadata": {},
   "outputs": [
    {
     "name": "stdout",
     "output_type": "stream",
     "text": [
      " the missing value for each column UnderwrittenCoverID         1000098\n",
      "PolicyID                    1000098\n",
      "TransactionMonth            1000098\n",
      "IsVATRegistered             1000098\n",
      "Citizenship                 1000098\n",
      "LegalType                   1000098\n",
      "Title                       1000098\n",
      "Language                    1000098\n",
      "Bank                        1000098\n",
      "AccountType                 1000098\n",
      "MaritalStatus               1000098\n",
      "Gender                      1000098\n",
      "Country                     1000098\n",
      "Province                    1000098\n",
      "PostalCode                  1000098\n",
      "MainCrestaZone              1000098\n",
      "SubCrestaZone               1000098\n",
      "ItemType                    1000098\n",
      "mmcode                      1000098\n",
      "VehicleType                 1000098\n",
      "RegistrationYear            1000098\n",
      "make                        1000098\n",
      "Model                       1000098\n",
      "Cylinders                   1000098\n",
      "cubiccapacity               1000098\n",
      "kilowatts                   1000098\n",
      "bodytype                    1000098\n",
      "NumberOfDoors               1000098\n",
      "VehicleIntroDate            1000098\n",
      "CustomValueEstimate         1000098\n",
      "AlarmImmobiliser            1000098\n",
      "TrackingDevice              1000098\n",
      "CapitalOutstanding          1000098\n",
      "NewVehicle                  1000098\n",
      "WrittenOff                  1000098\n",
      "Rebuilt                     1000098\n",
      "Converted                   1000098\n",
      "CrossBorder                 1000098\n",
      "NumberOfVehiclesInFleet     1000098\n",
      "SumInsured                  1000098\n",
      "TermFrequency               1000098\n",
      "CalculatedPremiumPerTerm    1000098\n",
      "ExcessSelected              1000098\n",
      "CoverCategory               1000098\n",
      "CoverType                   1000098\n",
      "CoverGroup                  1000098\n",
      "Section                     1000098\n",
      "Product                     1000098\n",
      "StatutoryClass              1000098\n",
      "StatutoryRiskType           1000098\n",
      "TotalPremium                1000098\n",
      "TotalClaims                 1000098\n",
      "dtype: int64\n",
      "the total missing value for the dataset UnderwrittenCoverID               0\n",
      "PolicyID                          0\n",
      "TransactionMonth                  0\n",
      "IsVATRegistered                   0\n",
      "Citizenship                       0\n",
      "LegalType                         0\n",
      "Title                             0\n",
      "Language                          0\n",
      "Bank                         145961\n",
      "AccountType                   40232\n",
      "MaritalStatus                  8259\n",
      "Gender                         9536\n",
      "Country                           0\n",
      "Province                          0\n",
      "PostalCode                        0\n",
      "MainCrestaZone                    0\n",
      "SubCrestaZone                     0\n",
      "ItemType                          0\n",
      "mmcode                          552\n",
      "VehicleType                     552\n",
      "RegistrationYear                  0\n",
      "make                            552\n",
      "Model                           552\n",
      "Cylinders                       552\n",
      "cubiccapacity                   552\n",
      "kilowatts                       552\n",
      "bodytype                        552\n",
      "NumberOfDoors                   552\n",
      "VehicleIntroDate                552\n",
      "CustomValueEstimate          779642\n",
      "AlarmImmobiliser                  0\n",
      "TrackingDevice                    0\n",
      "CapitalOutstanding                2\n",
      "NewVehicle                   153295\n",
      "WrittenOff                   641901\n",
      "Rebuilt                      641901\n",
      "Converted                    641901\n",
      "CrossBorder                  999400\n",
      "NumberOfVehiclesInFleet     1000098\n",
      "SumInsured                        0\n",
      "TermFrequency                     0\n",
      "CalculatedPremiumPerTerm          0\n",
      "ExcessSelected                    0\n",
      "CoverCategory                     0\n",
      "CoverType                         0\n",
      "CoverGroup                        0\n",
      "Section                           0\n",
      "Product                           0\n",
      "StatutoryClass                    0\n",
      "StatutoryRiskType                 0\n",
      "TotalPremium                      0\n",
      "TotalClaims                       0\n",
      "dtype: int64\n"
     ]
    }
   ],
   "source": [
    "#check for the missing values\n",
    "eda.missing_values()"
   ]
  },
  {
   "cell_type": "code",
   "execution_count": null,
   "metadata": {},
   "outputs": [
    {
     "name": "stderr",
     "output_type": "stream",
     "text": [
      "c:\\Users\\Dagi\\Documents\\KAIM\\Week-3\\insurance-risk-analytics\\scripts\\mainEda.py:26: FutureWarning: A value is trying to be set on a copy of a DataFrame or Series through chained assignment using an inplace method.\n",
      "The behavior will change in pandas 3.0. This inplace method will never work because the intermediate object on which we are setting values always behaves as a copy.\n",
      "\n",
      "For example, when doing 'df[col].method(value, inplace=True)', try using 'df.method({col: value}, inplace=True)' or df[col] = df[col].method(value) instead, to perform the operation inplace on the original object.\n",
      "\n",
      "\n",
      "  self.data[col].fillna(self.data[col].median(),inplace=True)\n",
      "c:\\Users\\Dagi\\Documents\\KAIM\\Week-3\\insurance-risk-analytics\\scripts\\mainEda.py:26: FutureWarning: A value is trying to be set on a copy of a DataFrame or Series through chained assignment using an inplace method.\n",
      "The behavior will change in pandas 3.0. This inplace method will never work because the intermediate object on which we are setting values always behaves as a copy.\n",
      "\n",
      "For example, when doing 'df[col].method(value, inplace=True)', try using 'df.method({col: value}, inplace=True)' or df[col] = df[col].method(value) instead, to perform the operation inplace on the original object.\n",
      "\n",
      "\n",
      "  self.data[col].fillna(self.data[col].median(),inplace=True)\n",
      "c:\\Users\\Dagi\\Documents\\KAIM\\Week-3\\insurance-risk-analytics\\scripts\\mainEda.py:26: FutureWarning: A value is trying to be set on a copy of a DataFrame or Series through chained assignment using an inplace method.\n",
      "The behavior will change in pandas 3.0. This inplace method will never work because the intermediate object on which we are setting values always behaves as a copy.\n",
      "\n",
      "For example, when doing 'df[col].method(value, inplace=True)', try using 'df.method({col: value}, inplace=True)' or df[col] = df[col].method(value) instead, to perform the operation inplace on the original object.\n",
      "\n",
      "\n",
      "  self.data[col].fillna(self.data[col].median(),inplace=True)\n",
      "c:\\Users\\Dagi\\Documents\\KAIM\\Week-3\\insurance-risk-analytics\\scripts\\mainEda.py:26: FutureWarning: A value is trying to be set on a copy of a DataFrame or Series through chained assignment using an inplace method.\n",
      "The behavior will change in pandas 3.0. This inplace method will never work because the intermediate object on which we are setting values always behaves as a copy.\n",
      "\n",
      "For example, when doing 'df[col].method(value, inplace=True)', try using 'df.method({col: value}, inplace=True)' or df[col] = df[col].method(value) instead, to perform the operation inplace on the original object.\n",
      "\n",
      "\n",
      "  self.data[col].fillna(self.data[col].median(),inplace=True)\n",
      "c:\\Users\\Dagi\\Documents\\KAIM\\Week-3\\insurance-risk-analytics\\scripts\\mainEda.py:26: FutureWarning: A value is trying to be set on a copy of a DataFrame or Series through chained assignment using an inplace method.\n",
      "The behavior will change in pandas 3.0. This inplace method will never work because the intermediate object on which we are setting values always behaves as a copy.\n",
      "\n",
      "For example, when doing 'df[col].method(value, inplace=True)', try using 'df.method({col: value}, inplace=True)' or df[col] = df[col].method(value) instead, to perform the operation inplace on the original object.\n",
      "\n",
      "\n",
      "  self.data[col].fillna(self.data[col].median(),inplace=True)\n",
      "c:\\Users\\Dagi\\Documents\\KAIM\\Week-3\\insurance-risk-analytics\\scripts\\mainEda.py:26: FutureWarning: A value is trying to be set on a copy of a DataFrame or Series through chained assignment using an inplace method.\n",
      "The behavior will change in pandas 3.0. This inplace method will never work because the intermediate object on which we are setting values always behaves as a copy.\n",
      "\n",
      "For example, when doing 'df[col].method(value, inplace=True)', try using 'df.method({col: value}, inplace=True)' or df[col] = df[col].method(value) instead, to perform the operation inplace on the original object.\n",
      "\n",
      "\n",
      "  self.data[col].fillna(self.data[col].median(),inplace=True)\n",
      "c:\\Users\\Dagi\\Documents\\KAIM\\Week-3\\insurance-risk-analytics\\scripts\\mainEda.py:26: FutureWarning: A value is trying to be set on a copy of a DataFrame or Series through chained assignment using an inplace method.\n",
      "The behavior will change in pandas 3.0. This inplace method will never work because the intermediate object on which we are setting values always behaves as a copy.\n",
      "\n",
      "For example, when doing 'df[col].method(value, inplace=True)', try using 'df.method({col: value}, inplace=True)' or df[col] = df[col].method(value) instead, to perform the operation inplace on the original object.\n",
      "\n",
      "\n",
      "  self.data[col].fillna(self.data[col].median(),inplace=True)\n",
      "c:\\Users\\Dagi\\Documents\\KAIM\\Week-3\\insurance-risk-analytics\\scripts\\mainEda.py:26: FutureWarning: A value is trying to be set on a copy of a DataFrame or Series through chained assignment using an inplace method.\n",
      "The behavior will change in pandas 3.0. This inplace method will never work because the intermediate object on which we are setting values always behaves as a copy.\n",
      "\n",
      "For example, when doing 'df[col].method(value, inplace=True)', try using 'df.method({col: value}, inplace=True)' or df[col] = df[col].method(value) instead, to perform the operation inplace on the original object.\n",
      "\n",
      "\n",
      "  self.data[col].fillna(self.data[col].median(),inplace=True)\n",
      "c:\\Users\\Dagi\\Documents\\KAIM\\Week-3\\insurance-risk-analytics\\scripts\\mainEda.py:26: FutureWarning: A value is trying to be set on a copy of a DataFrame or Series through chained assignment using an inplace method.\n",
      "The behavior will change in pandas 3.0. This inplace method will never work because the intermediate object on which we are setting values always behaves as a copy.\n",
      "\n",
      "For example, when doing 'df[col].method(value, inplace=True)', try using 'df.method({col: value}, inplace=True)' or df[col] = df[col].method(value) instead, to perform the operation inplace on the original object.\n",
      "\n",
      "\n",
      "  self.data[col].fillna(self.data[col].median(),inplace=True)\n",
      "c:\\Users\\Dagi\\Documents\\KAIM\\Week-3\\insurance-risk-analytics\\scripts\\mainEda.py:26: FutureWarning: A value is trying to be set on a copy of a DataFrame or Series through chained assignment using an inplace method.\n",
      "The behavior will change in pandas 3.0. This inplace method will never work because the intermediate object on which we are setting values always behaves as a copy.\n",
      "\n",
      "For example, when doing 'df[col].method(value, inplace=True)', try using 'df.method({col: value}, inplace=True)' or df[col] = df[col].method(value) instead, to perform the operation inplace on the original object.\n",
      "\n",
      "\n",
      "  self.data[col].fillna(self.data[col].median(),inplace=True)\n",
      "c:\\Users\\Dagi\\Documents\\KAIM\\Week-3\\insurance-risk-analytics\\scripts\\mainEda.py:26: FutureWarning: A value is trying to be set on a copy of a DataFrame or Series through chained assignment using an inplace method.\n",
      "The behavior will change in pandas 3.0. This inplace method will never work because the intermediate object on which we are setting values always behaves as a copy.\n",
      "\n",
      "For example, when doing 'df[col].method(value, inplace=True)', try using 'df.method({col: value}, inplace=True)' or df[col] = df[col].method(value) instead, to perform the operation inplace on the original object.\n",
      "\n",
      "\n",
      "  self.data[col].fillna(self.data[col].median(),inplace=True)\n",
      "c:\\Users\\Dagi\\Documents\\KAIM\\Week-3\\insurance-risk-analytics\\scripts\\mainEda.py:26: FutureWarning: A value is trying to be set on a copy of a DataFrame or Series through chained assignment using an inplace method.\n",
      "The behavior will change in pandas 3.0. This inplace method will never work because the intermediate object on which we are setting values always behaves as a copy.\n",
      "\n",
      "For example, when doing 'df[col].method(value, inplace=True)', try using 'df.method({col: value}, inplace=True)' or df[col] = df[col].method(value) instead, to perform the operation inplace on the original object.\n",
      "\n",
      "\n",
      "  self.data[col].fillna(self.data[col].median(),inplace=True)\n",
      "c:\\Users\\Dagi\\Documents\\KAIM\\Week-3\\insurance-risk-analytics\\scripts\\mainEda.py:26: FutureWarning: A value is trying to be set on a copy of a DataFrame or Series through chained assignment using an inplace method.\n",
      "The behavior will change in pandas 3.0. This inplace method will never work because the intermediate object on which we are setting values always behaves as a copy.\n",
      "\n",
      "For example, when doing 'df[col].method(value, inplace=True)', try using 'df.method({col: value}, inplace=True)' or df[col] = df[col].method(value) instead, to perform the operation inplace on the original object.\n",
      "\n",
      "\n",
      "  self.data[col].fillna(self.data[col].median(),inplace=True)\n",
      "c:\\Users\\Dagi\\Documents\\KAIM\\Week-3\\insurance-risk-analytics\\scripts\\mainEda.py:26: FutureWarning: A value is trying to be set on a copy of a DataFrame or Series through chained assignment using an inplace method.\n",
      "The behavior will change in pandas 3.0. This inplace method will never work because the intermediate object on which we are setting values always behaves as a copy.\n",
      "\n",
      "For example, when doing 'df[col].method(value, inplace=True)', try using 'df.method({col: value}, inplace=True)' or df[col] = df[col].method(value) instead, to perform the operation inplace on the original object.\n",
      "\n",
      "\n",
      "  self.data[col].fillna(self.data[col].median(),inplace=True)\n"
     ]
    },
    {
     "data": {
      "text/plain": [
       "UnderwrittenCoverID         0\n",
       "PolicyID                    0\n",
       "TransactionMonth            0\n",
       "IsVATRegistered             0\n",
       "Citizenship                 0\n",
       "LegalType                   0\n",
       "Title                       0\n",
       "Language                    0\n",
       "Bank                        0\n",
       "AccountType                 0\n",
       "MaritalStatus               0\n",
       "Gender                      0\n",
       "Country                     0\n",
       "Province                    0\n",
       "PostalCode                  0\n",
       "MainCrestaZone              0\n",
       "SubCrestaZone               0\n",
       "ItemType                    0\n",
       "mmcode                      0\n",
       "VehicleType                 0\n",
       "RegistrationYear            0\n",
       "make                        0\n",
       "Model                       0\n",
       "Cylinders                   0\n",
       "cubiccapacity               0\n",
       "kilowatts                   0\n",
       "bodytype                    0\n",
       "NumberOfDoors               0\n",
       "VehicleIntroDate            0\n",
       "CustomValueEstimate         0\n",
       "AlarmImmobiliser            0\n",
       "TrackingDevice              0\n",
       "CapitalOutstanding          0\n",
       "NewVehicle                  0\n",
       "WrittenOff                  0\n",
       "Rebuilt                     0\n",
       "Converted                   0\n",
       "CrossBorder                 0\n",
       "NumberOfVehiclesInFleet     0\n",
       "SumInsured                  0\n",
       "TermFrequency               0\n",
       "CalculatedPremiumPerTerm    0\n",
       "ExcessSelected              0\n",
       "CoverCategory               0\n",
       "CoverType                   0\n",
       "CoverGroup                  0\n",
       "Section                     0\n",
       "Product                     0\n",
       "StatutoryClass              0\n",
       "StatutoryRiskType           0\n",
       "TotalPremium                0\n",
       "TotalClaims                 0\n",
       "dtype: int64"
      ]
     },
     "execution_count": 11,
     "metadata": {},
     "output_type": "execute_result"
    }
   ],
   "source": [
    "#handel those missing values\n",
    "eda.handle_missing_values()"
   ]
  },
  {
   "cell_type": "code",
   "execution_count": 12,
   "metadata": {},
   "outputs": [
    {
     "name": "stdout",
     "output_type": "stream",
     "text": [
      "here is the discription about TotalPremium column count    1.000098e+06\n",
      "mean     6.190550e+01\n",
      "std      2.302845e+02\n",
      "min     -7.825768e+02\n",
      "25%      0.000000e+00\n",
      "50%      2.178333e+00\n",
      "75%      2.192982e+01\n",
      "max      6.528260e+04\n",
      "Name: TotalPremium, dtype: float64\n",
      "here is the discription about TotalClaims column count    1.000098e+06\n",
      "mean     6.486119e+01\n",
      "std      2.384075e+03\n",
      "min     -1.200241e+04\n",
      "25%      0.000000e+00\n",
      "50%      0.000000e+00\n",
      "75%      0.000000e+00\n",
      "max      3.930921e+05\n",
      "Name: TotalClaims, dtype: float64\n"
     ]
    }
   ],
   "source": [
    "#info about the total premium and total claims columns\n",
    "eda._info_about_specified_colmn('TotalPremium','TotalClaims')"
   ]
  },
  {
   "cell_type": "code",
   "execution_count": 1,
   "metadata": {},
   "outputs": [
    {
     "ename": "NameError",
     "evalue": "name 'eda' is not defined",
     "output_type": "error",
     "traceback": [
      "\u001b[1;31m---------------------------------------------------------------------------\u001b[0m",
      "\u001b[1;31mNameError\u001b[0m                                 Traceback (most recent call last)",
      "Cell \u001b[1;32mIn[1], line 1\u001b[0m\n\u001b[1;32m----> 1\u001b[0m \u001b[43meda\u001b[49m\u001b[38;5;241m.\u001b[39mhandle_outliers(\u001b[38;5;124m'\u001b[39m\u001b[38;5;124mTotalPremium\u001b[39m\u001b[38;5;124m'\u001b[39m)\n",
      "\u001b[1;31mNameError\u001b[0m: name 'eda' is not defined"
     ]
    }
   ],
   "source": [
    "eda.handle_outliers('TotalPremium')"
   ]
  },
  {
   "cell_type": "code",
   "execution_count": null,
   "metadata": {},
   "outputs": [],
   "source": [
    "eda.handle_outliers('TotalClaims')"
   ]
  },
  {
   "cell_type": "code",
   "execution_count": null,
   "metadata": {},
   "outputs": [
    {
     "ename": "AttributeError",
     "evalue": "'exploratory_data_analysis' object has no attribute '_basic_columns_ploting'",
     "output_type": "error",
     "traceback": [
      "\u001b[1;31m---------------------------------------------------------------------------\u001b[0m",
      "\u001b[1;31mAttributeError\u001b[0m                            Traceback (most recent call last)",
      "Cell \u001b[1;32mIn[21], line 1\u001b[0m\n\u001b[1;32m----> 1\u001b[0m \u001b[43meda\u001b[49m\u001b[38;5;241;43m.\u001b[39;49m\u001b[43m_basic_columns_ploting\u001b[49m(\u001b[38;5;124m'\u001b[39m\u001b[38;5;124mTotalPremium\u001b[39m\u001b[38;5;124m'\u001b[39m,\u001b[38;5;124m'\u001b[39m\u001b[38;5;124mTotalClaims\u001b[39m\u001b[38;5;124m'\u001b[39m)\n",
      "\u001b[1;31mAttributeError\u001b[0m: 'exploratory_data_analysis' object has no attribute '_basic_columns_ploting'"
     ]
    }
   ],
   "source": [
    "eda._basic_columns_ploting('TotalPremium','TotalClaims')"
   ]
  },
  {
   "cell_type": "code",
   "execution_count": 17,
   "metadata": {},
   "outputs": [
    {
     "ename": "AttributeError",
     "evalue": "'exploratory_data_analysis' object has no attribute 'two_columns_scatter_plot'",
     "output_type": "error",
     "traceback": [
      "\u001b[1;31m---------------------------------------------------------------------------\u001b[0m",
      "\u001b[1;31mAttributeError\u001b[0m                            Traceback (most recent call last)",
      "Cell \u001b[1;32mIn[17], line 1\u001b[0m\n\u001b[1;32m----> 1\u001b[0m \u001b[43meda\u001b[49m\u001b[38;5;241;43m.\u001b[39;49m\u001b[43mtwo_columns_scatter_plot\u001b[49m(\u001b[38;5;124m'\u001b[39m\u001b[38;5;124mTotalPremium\u001b[39m\u001b[38;5;124m'\u001b[39m,\u001b[38;5;124m'\u001b[39m\u001b[38;5;124mTotalClaims\u001b[39m\u001b[38;5;124m'\u001b[39m)\n",
      "\u001b[1;31mAttributeError\u001b[0m: 'exploratory_data_analysis' object has no attribute 'two_columns_scatter_plot'"
     ]
    }
   ],
   "source": [
    "eda.two_columns_scatter_plot('TotalPremium','TotalClaims')"
   ]
  },
  {
   "cell_type": "markdown",
   "metadata": {},
   "source": [
    "the next step is the univaret analysis"
   ]
  },
  {
   "cell_type": "code",
   "execution_count": 19,
   "metadata": {},
   "outputs": [
    {
     "data": {
      "image/png": "[encoded data removed]",
      "text/plain": [
       "<Figure size 640x480 with 1 Axes>"
      ]
     },
     "metadata": {},
     "output_type": "display_data"
    }
   ],
   "source": [
    "eda.Univariate_analysis('TotalPremium')"
   ]
  },
  {
   "cell_type": "markdown",
   "metadata": {},
   "source": [
    " The next step is Bivariate analysis"
   ]
  },
  {
   "cell_type": "code",
   "execution_count": 18,
   "metadata": {},
   "outputs": [
    {
     "data": {
      "image/png": "[encoded data removed]",
      "text/plain": [
       "<Figure size 640x480 with 1 Axes>"
      ]
     },
     "metadata": {},
     "output_type": "display_data"
    }
   ],
   "source": [
    "eda.Bivariate_analysis('TotalPremium','TotalClaims')"
   ]
  },
  {
   "cell_type": "code",
   "execution_count": null,
   "metadata": {},
   "outputs": [],
   "source": []
  }
 ],
 "metadata": {
  "kernelspec": {
   "display_name": "week-3",
   "language": "python",
   "name": "python3"
  },
  "language_info": {
   "codemirror_mode": {
    "name": "ipython",
    "version": 3
   },
   "file_extension": ".py",
   "mimetype": "text/x-python",
   "name": "python",
   "nbconvert_exporter": "python",
   "pygments_lexer": "ipython3",
   "version": "3.12.5"
  }
 },
 "nbformat": 4,
 "nbformat_minor": 2
}
