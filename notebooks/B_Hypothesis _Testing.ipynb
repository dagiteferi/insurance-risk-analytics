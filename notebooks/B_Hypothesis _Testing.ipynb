{
 "cells": [
  {
   "cell_type": "markdown",
   "metadata": {},
   "source": [
    "Task 3: A/B Hypothesis Testing\n",
    "Accept or Reject Null Hypotheses:\n",
    "\n",
    "No risk differences across provinces.\n",
    "\n",
    "No risk differences between zip codes.\n",
    "\n",
    "No significant margin difference between zip codes.\n",
    "\n",
    "No significant risk difference between Women and Men.\n",
    "\n",
    "Tasks:\n",
    "\n",
    "Select metrics and segment data into control and test groups.\n",
    "\n",
    "Conduct statistical tests (e.g., chi-squared, t-tests, z-tests) to evaluate the impact.\n",
    "\n",
    "Analyze and report findings.\n",
    "\n"
   ]
  },
  {
   "cell_type": "code",
   "execution_count": 2,
   "metadata": {},
   "outputs": [],
   "source": [
    "import sys\n",
    "import os\n",
    "\n",
    "# Add the root directory to sys.path\n",
    "sys.path.append(os.path.abspath('..'))"
   ]
  },
  {
   "cell_type": "code",
   "execution_count": 5,
   "metadata": {},
   "outputs": [
    {
     "ename": "ModuleNotFoundError",
     "evalue": "No module named 'scripts.AB_Hypothesis_Testing'",
     "output_type": "error",
     "traceback": [
      "\u001b[1;31m---------------------------------------------------------------------------\u001b[0m",
      "\u001b[1;31mModuleNotFoundError\u001b[0m                       Traceback (most recent call last)",
      "Cell \u001b[1;32mIn[5], line 1\u001b[0m\n\u001b[1;32m----> 1\u001b[0m \u001b[38;5;28;01mfrom\u001b[39;00m \u001b[38;5;21;01mscripts\u001b[39;00m\u001b[38;5;21;01m.\u001b[39;00m\u001b[38;5;21;01mAB_Hypothesis_Testing\u001b[39;00m \u001b[38;5;28;01mimport\u001b[39;00m load_data , detecting_categorical_outliers,handle_catagorical_outliers, ab_test_provinces , ab_test_zipcodes , ab_test_zipcode_margin , ab_test_gender , preprocess_data\n",
      "\u001b[1;31mModuleNotFoundError\u001b[0m: No module named 'scripts.AB_Hypothesis_Testing'"
     ]
    }
   ],
   "source": [
    "from scripts.AB_Hypothesis_Testing import data_load , categorical_outliers_detecting,handle_catagorical_outliers, ab_test_provinces , ab_test_zipcodes , ab_test_zipcode_margin , ab_test_gender , preprocess_data\n",
    "path = '../data/data.csv'\n",
    "data = load_data(path)\n",
    "data.head()"
   ]
  }
 ],
 "metadata": {
  "kernelspec": {
   "display_name": "week-3",
   "language": "python",
   "name": "python3"
  },
  "language_info": {
   "codemirror_mode": {
    "name": "ipython",
    "version": 3
   },
   "file_extension": ".py",
   "mimetype": "text/x-python",
   "name": "python",
   "nbconvert_exporter": "python",
   "pygments_lexer": "ipython3",
   "version": "3.12.5"
  }
 },
 "nbformat": 4,
 "nbformat_minor": 2
}
