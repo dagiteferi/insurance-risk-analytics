{
 "cells": [
  {
   "cell_type": "code",
   "execution_count": null,
   "metadata": {},
   "outputs": [],
   "source": [
    "Task 3: A/B Hypothesis Testing\n",
    "Accept or Reject Null Hypotheses:\n",
    "\n",
    "No risk differences across provinces.\n",
    "\n",
    "No risk differences between zip codes.\n",
    "\n",
    "No significant margin difference between zip codes.\n",
    "\n",
    "No significant risk difference between Women and Men.\n",
    "\n",
    "Tasks:\n",
    "\n",
    "Select metrics and segment data into control and test groups.\n",
    "\n",
    "Conduct statistical tests (e.g., chi-squared, t-tests, z-tests) to evaluate the impact.\n",
    "\n",
    "Analyze and report findings.\n",
    "\n"
   ]
  },
  {
   "cell_type": "code",
   "execution_count": null,
   "metadata": {},
   "outputs": [
    {
     "ename": "",
     "evalue": "",
     "output_type": "error",
     "traceback": [
      "\u001b[1;31mFailed to start the Kernel. \n",
      "\u001b[1;31mUnable to start Kernel 'week-3 (Python 3.12.5)' due to a timeout waiting for the ports to get used. \n",
      "\u001b[1;31mView Jupyter <a href='command:jupyter.viewOutput'>log</a> for further details."
     ]
    }
   ],
   "source": [
    "import sys\n",
    "import os\n",
    "\n",
    "# Add the root directory to sys.path\n",
    "sys.path.append(os.path.abspath('..'))"
   ]
  },
  {
   "cell_type": "code",
   "execution_count": null,
   "metadata": {},
   "outputs": [],
   "source": [
    "from scripts.ab_testing import load_data , detecting_categorical_outliers,handle_catagorical_outliers, ab_test_provinces , ab_test_zipcodes , ab_test_zipcode_margin , ab_test_gender , preprocess_data\n",
    "path = '../data/data.csv'\n",
    "data = load_data(path)\n",
    "data.head()"
   ]
  }
 ],
 "metadata": {
  "kernelspec": {
   "display_name": "week-3",
   "language": "python",
   "name": "python3"
  },
  "language_info": {
   "name": "python",
   "version": "3.12.5"
  }
 },
 "nbformat": 4,
 "nbformat_minor": 2
}
